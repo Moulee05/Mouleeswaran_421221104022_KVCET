{
 "cells": [
  {
   "cell_type": "code",
   "execution_count": null,
   "id": "54c09ad3-28e3-4a1c-9b3b-63bd3e08737a",
   "metadata": {},
   "outputs": [],
   "source": [
    "#File management system.\n",
    "\n",
    "import os     #os---is an library too access the already stored files.(list.dir()) \n",
    "print(\"Enter 1 to Write, 2 to Read, 3 to Append\")\n",
    "action=int(input(\"\"))\n",
    "if action==1:\n",
    "     allfile = os.listdir()\n",
    "     while True:\n",
    "         print([x for x in allfile if x.endswith ('.txt')])\n",
    "         f_name=input(\"Enter the File name:\")\n",
    "         if f_name in allfile:\n",
    "            print('file already exist')\n",
    "         else:\n",
    "             cont=input(\"Enter the content for the file:\")\n",
    "             file=open(f_name,'w')\n",
    "             file.write(cont)\n",
    "             file.close()\n",
    "             break\n",
    "\n",
    "elif action==2:\n",
    "    allfile=os.listdir()\n",
    "    while True:\n",
    "        print([x for x in allfile if x.endswith ('.txt')])\n",
    "        f_name=input('enter file name')\n",
    "        if f_name in allfile:\n",
    "            file=open(f_name,'r')\n",
    "            print(file.read())\n",
    "            break\n",
    "        else:\n",
    "           print('no such file exist')\n",
    "            \n",
    "elif action==3:\n",
    "    allfile=os.listdir()\n",
    "    while True:\n",
    "        print([x for x in allfile if x.endswith('.txt')])\n",
    "        f_name=input('enter file name')\n",
    "        if f_name in allfile:\n",
    "            data=input('enter data to write')\n",
    "            file=open(f_name,'a')\n",
    "            file.write(data)\n",
    "            file.close()\n",
    "            break\n",
    "        else:\n",
    "            print('no such file exist')"
   ]
  },
  {
   "cell_type": "code",
   "execution_count": null,
   "id": "2b8bc191-443f-40c2-8ec2-51c48c33f45e",
   "metadata": {},
   "outputs": [],
   "source": []
  }
 ],
 "metadata": {
  "kernelspec": {
   "display_name": "Python 3 (ipykernel)",
   "language": "python",
   "name": "python3"
  },
  "language_info": {
   "codemirror_mode": {
    "name": "ipython",
    "version": 3
   },
   "file_extension": ".py",
   "mimetype": "text/x-python",
   "name": "python",
   "nbconvert_exporter": "python",
   "pygments_lexer": "ipython3",
   "version": "3.12.3"
  }
 },
 "nbformat": 4,
 "nbformat_minor": 5
}
